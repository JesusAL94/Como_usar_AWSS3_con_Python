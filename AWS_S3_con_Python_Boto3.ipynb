{
 "cells": [
  {
   "cell_type": "markdown",
   "metadata": {},
   "source": [
    "# AWS con Python utilizando el módulo **boto3** y AWSCLI2\n",
    "Proceso para instalar aws cli2, crear el bucket de s3, instalar boto3"
   ]
  },
  {
   "cell_type": "markdown",
   "metadata": {},
   "source": [
    "## 1º - Instalar AWSCLI2 - [Link_de_descarga](https://docs.aws.amazon.com/cli/latest/userguide/cli-chap-welcome.html)\n",
    "Con **AWSCLI2** realizamos una serie de comandos antes de continuar\n",
    "- inicializamos la consola: `aws configure`\n",
    "- Creamos las credenciales en `~/.aws/credentials`.\n",
    "- -------------------------------------------------\n",
    "- Introducimos nuestra access_key y secret_access_key proporcionadas en la creación de un usuario en IAM de AWS \n",
    "[default]\n",
    "- aws_access_key_id = YOUR_ACCESS_KEY\n",
    "- aws_secret_access_key = YOUR_SECRET_KEY\n",
    "- -------------------------------------------------\n",
    "- Configuramos la region en `~/.aws/config`\n",
    "- [default]\n",
    "- region=us-east-2 (para el ejemplo esta será la seleccionada)"
   ]
  },
  {
   "cell_type": "markdown",
   "metadata": {},
   "source": [
    "## 2º - Librerías necesarias: **boto3**, **loggin**, **os**, **botocore**: Instalacion\n",
    "-  Librerías que necesitaremos para ejecutar correctamente las lineas de código y scripts de este ejemplo."
   ]
  },
  {
   "cell_type": "code",
   "execution_count": 1,
   "metadata": {},
   "outputs": [],
   "source": [
    "import boto3\n",
    "import logging\n",
    "from botocore.exceptions import ClientError\n",
    "import os"
   ]
  },
  {
   "cell_type": "markdown",
   "metadata": {},
   "source": [
    "## 3º - Funcionalidades de buckets AWS S3 con Python\n",
    "con estas configuraciones, podremos utilizar las principales funciones de S3 desde Python"
   ]
  },
  {
   "cell_type": "markdown",
   "metadata": {},
   "source": [
    "### 3.1 Configuración s3"
   ]
  },
  {
   "cell_type": "code",
   "execution_count": 2,
   "metadata": {},
   "outputs": [],
   "source": [
    "s3 = boto3.resource('s3')"
   ]
  },
  {
   "cell_type": "markdown",
   "metadata": {},
   "source": [
    "### 3.2 buckets s3"
   ]
  },
  {
   "cell_type": "markdown",
   "metadata": {},
   "source": [
    "#### 3.2.1 Crear bucket s3\n",
    "script completo - con este código, podremos crear un bucket en AWS S3 con la región y el nombre, el nombre deberá ser único en todo el servicio de S3, aunque en caso de que ya exista, se informará mediante el error.\n"
   ]
  },
  {
   "cell_type": "code",
   "execution_count": null,
   "metadata": {},
   "outputs": [],
   "source": [
    "def create_new_bucket(bucket_name='string', region='string'):\n",
    "    try:\n",
    "        s3_cliente = boto3.client('s3', region_name=region)\n",
    "        location = {'LocationConstraint': region}\n",
    "        s3_cliente.create_bucket(\n",
    "            Bucket=bucket_name, CreateBucketConfiguration = location)\n",
    "    except ClientError as e:\n",
    "        logging.error(e)\n",
    "        return False\n",
    "    return True\n",
    "\n",
    "create_new_bucket('nombre_de_tu_bucket', 'nombre_de_tu_región')"
   ]
  },
  {
   "cell_type": "markdown",
   "metadata": {},
   "source": [
    "#### 3.2.2 Imprimir bucket s3\n",
    "script completo - con este código, podemos imprimir en pantalla los buckets que tenemos creado en nuestro cleinte de AWS S3."
   ]
  },
  {
   "cell_type": "code",
   "execution_count": null,
   "metadata": {},
   "outputs": [],
   "source": [
    "def print_buckets_name():\n",
    "    try:\n",
    "        s3 = boto3.resource('s3')\n",
    "        for bucket in s3.buckets.all():\n",
    "            print(bucket.name)\n",
    "    except ClientError as e:\n",
    "        print(f'Error: {e}')\n",
    "        return False\n",
    "    return True\n",
    "\n",
    "print_buckets_name()"
   ]
  },
  {
   "cell_type": "markdown",
   "metadata": {},
   "source": [
    "#### 3.2.3 Visualizar datos principales delos buckets s3\n",
    "script completo - con este código, podremos ver en pantalla los principales datos no solo su nombre, si no su tipo, archivo, etc."
   ]
  },
  {
   "cell_type": "code",
   "execution_count": null,
   "metadata": {},
   "outputs": [],
   "source": [
    "def see_type_bucket():\n",
    "    try:\n",
    "        s3 = boto3.client('s3')\n",
    "        response = s3.list_buckets()\n",
    "        print(response)\n",
    "    except ClientError as e:\n",
    "        print(f'Error: {e}')\n",
    "        return False\n",
    "    return True\n",
    "\n",
    "see_type_bucket()"
   ]
  },
  {
   "cell_type": "markdown",
   "metadata": {},
   "source": [
    "#### 3.2.4 Subir contenido a un bucket específico\n",
    "script completo - con este código, podremos subir archivos de cualquier tipo al bucket"
   ]
  },
  {
   "cell_type": "code",
   "execution_count": null,
   "metadata": {},
   "outputs": [],
   "source": [
    "def upload_new_file(file_name='string', bucket='string', object_name=None):\n",
    "    if object_name is None:\n",
    "        object_name = os.path.basename(file_name)\n",
    "    s3_client = boto3.client('s3')\n",
    "    try:\n",
    "        response = s3_client.upload_file(file_name, bucket, object_name)\n",
    "    except ClientError as e:\n",
    "        logging.error(e)\n",
    "        return False\n",
    "    return True\n",
    "\n",
    "upload_new_file('nombre_del_archivo', 'nombre_de_tu_bucket', 'nombre_del_item' )"
   ]
  },
  {
   "cell_type": "markdown",
   "metadata": {},
   "source": [
    "#### 3.2.5 Subir contenido (binario)"
   ]
  },
  {
   "cell_type": "code",
   "execution_count": null,
   "metadata": {},
   "outputs": [],
   "source": [
    "def upload_any_file(bucket_name='string', type_file='string'):\n",
    "    try:\n",
    "        s3 = boto3.resource('s3')\n",
    "        with open(bucket_name, type_file) as data:\n",
    "            s3.Bucket(bucket_name).put_object(Key=bucket_name, Body=data)\n",
    "    except ClientError as e:\n",
    "        print(f'Error: {e}')\n",
    "        return False\n",
    "    return True\n",
    "\n",
    "upload_any_file('nombre_de_tu_bucket', 'tipo_binario_o_texto')"
   ]
  },
  {
   "cell_type": "markdown",
   "metadata": {},
   "source": [
    "#### 3.2.6 Descargar contenido\n",
    "script completo - con este código, podremos descargar cualquier documento y ponerle el nombre que queramos.\n"
   ]
  },
  {
   "cell_type": "code",
   "execution_count": null,
   "metadata": {},
   "outputs": [],
   "source": [
    "def download_files(bucket_name='string', url_file='string', name_file='string'):\n",
    "    try:\n",
    "        s3 = boto3.client('s3')\n",
    "        s3.download_file(bucket_name, url_file, name_file)\n",
    "    except ClientError as e:\n",
    "        print(f'Error: {e}')\n",
    "        return False\n",
    "    return True\n",
    "\n",
    "download_files('nombre_de_tu_bucket', 'url_file', 'nombre_del_file')"
   ]
  }
 ],
 "metadata": {
  "kernelspec": {
   "display_name": "Python 3",
   "language": "python",
   "name": "python3"
  },
  "language_info": {
   "codemirror_mode": {
    "name": "ipython",
    "version": 3
   },
   "file_extension": ".py",
   "mimetype": "text/x-python",
   "name": "python",
   "nbconvert_exporter": "python",
   "pygments_lexer": "ipython3",
   "version": "3.13.1"
  }
 },
 "nbformat": 4,
 "nbformat_minor": 2
}
